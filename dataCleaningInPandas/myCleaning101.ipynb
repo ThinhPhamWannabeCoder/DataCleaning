{
 "cells": [
  {
   "cell_type": "markdown",
   "metadata": {},
   "source": [
    "# PERSONAL CLEANING DATA"
   ]
  },
  {
   "cell_type": "markdown",
   "metadata": {},
   "source": [
    "# 1. IMPORT NECESSARY LIBRARY"
   ]
  },
  {
   "cell_type": "code",
   "execution_count": 38,
   "metadata": {},
   "outputs": [],
   "source": [
    "import pandas as pd\n",
    "import re\n",
    "\n",
    "# Sometime you may need to run pip install for more needed usage"
   ]
  },
  {
   "cell_type": "markdown",
   "metadata": {},
   "source": [
    "# 2. IMPORT DATA"
   ]
  },
  {
   "cell_type": "code",
   "execution_count": 39,
   "metadata": {},
   "outputs": [],
   "source": [
    "excel_data = pd.read_excel('/home/user/Documents/HOC/PYTHON/Data/DataCleaning/source/Ditry Data Sample.xlsx', sheet_name=None)"
   ]
  },
  {
   "cell_type": "code",
   "execution_count": 40,
   "metadata": {},
   "outputs": [],
   "source": [
    "df_dirty = excel_data['Dirty 1'].copy()"
   ]
  },
  {
   "cell_type": "markdown",
   "metadata": {},
   "source": [
    "# 3. INSPECT DATA\n",
    "\n",
    "Some questions to answer\n",
    "- Shape: name, number, dtypes of columns\n",
    "- Values: duplicate, missing, fault (Inconsitent, Typo...)\n"
   ]
  },
  {
   "cell_type": "code",
   "execution_count": 41,
   "metadata": {},
   "outputs": [
    {
     "data": {
      "text/plain": [
       "(825, 16)"
      ]
     },
     "execution_count": 41,
     "metadata": {},
     "output_type": "execute_result"
    }
   ],
   "source": [
    "# Shape\n",
    "df_dirty.shape"
   ]
  },
  {
   "cell_type": "code",
   "execution_count": 42,
   "metadata": {},
   "outputs": [
    {
     "data": {
      "text/html": [
       "<div>\n",
       "<style scoped>\n",
       "    .dataframe tbody tr th:only-of-type {\n",
       "        vertical-align: middle;\n",
       "    }\n",
       "\n",
       "    .dataframe tbody tr th {\n",
       "        vertical-align: top;\n",
       "    }\n",
       "\n",
       "    .dataframe thead th {\n",
       "        text-align: right;\n",
       "    }\n",
       "</style>\n",
       "<table border=\"1\" class=\"dataframe\">\n",
       "  <thead>\n",
       "    <tr style=\"text-align: right;\">\n",
       "      <th></th>\n",
       "      <th>Consumer Total</th>\n",
       "      <th>Corporate Total</th>\n",
       "      <th>Home Office Total</th>\n",
       "    </tr>\n",
       "  </thead>\n",
       "  <tbody>\n",
       "    <tr>\n",
       "      <th>count</th>\n",
       "      <td>445.000000</td>\n",
       "      <td>248.000000</td>\n",
       "      <td>132.000000</td>\n",
       "    </tr>\n",
       "    <tr>\n",
       "      <th>mean</th>\n",
       "      <td>879.015600</td>\n",
       "      <td>982.951069</td>\n",
       "      <td>1125.075780</td>\n",
       "    </tr>\n",
       "    <tr>\n",
       "      <th>std</th>\n",
       "      <td>9285.318749</td>\n",
       "      <td>7761.266452</td>\n",
       "      <td>6753.344616</td>\n",
       "    </tr>\n",
       "    <tr>\n",
       "      <th>min</th>\n",
       "      <td>2.064000</td>\n",
       "      <td>1.167000</td>\n",
       "      <td>3.444000</td>\n",
       "    </tr>\n",
       "    <tr>\n",
       "      <th>25%</th>\n",
       "      <td>36.192000</td>\n",
       "      <td>31.066500</td>\n",
       "      <td>35.820000</td>\n",
       "    </tr>\n",
       "    <tr>\n",
       "      <th>50%</th>\n",
       "      <td>173.940000</td>\n",
       "      <td>158.252000</td>\n",
       "      <td>150.060000</td>\n",
       "    </tr>\n",
       "    <tr>\n",
       "      <th>75%</th>\n",
       "      <td>517.500000</td>\n",
       "      <td>583.518500</td>\n",
       "      <td>530.497500</td>\n",
       "    </tr>\n",
       "    <tr>\n",
       "      <th>max</th>\n",
       "      <td>195580.971000</td>\n",
       "      <td>121885.932500</td>\n",
       "      <td>74255.001500</td>\n",
       "    </tr>\n",
       "  </tbody>\n",
       "</table>\n",
       "</div>"
      ],
      "text/plain": [
       "       Consumer Total  Corporate Total  Home Office Total\n",
       "count      445.000000       248.000000         132.000000\n",
       "mean       879.015600       982.951069        1125.075780\n",
       "std       9285.318749      7761.266452        6753.344616\n",
       "min          2.064000         1.167000           3.444000\n",
       "25%         36.192000        31.066500          35.820000\n",
       "50%        173.940000       158.252000         150.060000\n",
       "75%        517.500000       583.518500         530.497500\n",
       "max     195580.971000    121885.932500       74255.001500"
      ]
     },
     "execution_count": 42,
     "metadata": {},
     "output_type": "execute_result"
    }
   ],
   "source": [
    "df_dirty.describe()"
   ]
  },
  {
   "cell_type": "code",
   "execution_count": 43,
   "metadata": {},
   "outputs": [
    {
     "data": {
      "text/plain": [
       "Index(['Segment>>', 'Consumer', 'Unnamed: 2', 'Unnamed: 3', 'Unnamed: 4',\n",
       "       'Consumer Total', 'Corporate', 'Unnamed: 7', 'Unnamed: 8', 'Unnamed: 9',\n",
       "       'Corporate Total', 'Home Office', 'Unnamed: 12', 'Unnamed: 13',\n",
       "       'Unnamed: 14', 'Home Office Total'],\n",
       "      dtype='object')"
      ]
     },
     "execution_count": 43,
     "metadata": {},
     "output_type": "execute_result"
    }
   ],
   "source": [
    "df_dirty.columns"
   ]
  },
  {
   "cell_type": "code",
   "execution_count": 44,
   "metadata": {},
   "outputs": [
    {
     "data": {
      "text/plain": [
       "Segment>>             object\n",
       "Consumer              object\n",
       "Unnamed: 2            object\n",
       "Unnamed: 3            object\n",
       "Unnamed: 4            object\n",
       "Consumer Total       float64\n",
       "Corporate             object\n",
       "Unnamed: 7            object\n",
       "Unnamed: 8            object\n",
       "Unnamed: 9            object\n",
       "Corporate Total      float64\n",
       "Home Office           object\n",
       "Unnamed: 12           object\n",
       "Unnamed: 13           object\n",
       "Unnamed: 14           object\n",
       "Home Office Total    float64\n",
       "dtype: object"
      ]
     },
     "execution_count": 44,
     "metadata": {},
     "output_type": "execute_result"
    }
   ],
   "source": [
    "df_dirty.dtypes"
   ]
  },
  {
   "cell_type": "markdown",
   "metadata": {},
   "source": [
    "* Using Regex is useful for checking string data "
   ]
  },
  {
   "cell_type": "code",
   "execution_count": 45,
   "metadata": {},
   "outputs": [
    {
     "name": "stdout",
     "output_type": "stream",
     "text": [
      "The number of unname column is 10\n"
     ]
    }
   ],
   "source": [
    "searchTxt = \"Unnamed\"\n",
    "count = 1\n",
    "for x in df_dirty.columns:\n",
    "    if re.search(searchTxt,x):\n",
    "        count+=1\n",
    "print(f\"The number of unname column is {count}\")\n"
   ]
  },
  {
   "cell_type": "code",
   "execution_count": 46,
   "metadata": {},
   "outputs": [],
   "source": [
    "# There're alot of unnamed columns -> something really wrong with this data\n",
    "# There're only 3 columns with float64 type return summary data\n",
    "# other 16 -3 = 13 columns is not useful and 10 columns in it is wrong"
   ]
  },
  {
   "cell_type": "code",
   "execution_count": 47,
   "metadata": {},
   "outputs": [
    {
     "data": {
      "text/html": [
       "<div>\n",
       "<style scoped>\n",
       "    .dataframe tbody tr th:only-of-type {\n",
       "        vertical-align: middle;\n",
       "    }\n",
       "\n",
       "    .dataframe tbody tr th {\n",
       "        vertical-align: top;\n",
       "    }\n",
       "\n",
       "    .dataframe thead th {\n",
       "        text-align: right;\n",
       "    }\n",
       "</style>\n",
       "<table border=\"1\" class=\"dataframe\">\n",
       "  <thead>\n",
       "    <tr style=\"text-align: right;\">\n",
       "      <th></th>\n",
       "      <th>Segment&gt;&gt;</th>\n",
       "      <th>Consumer</th>\n",
       "      <th>Unnamed: 2</th>\n",
       "      <th>Unnamed: 3</th>\n",
       "      <th>Unnamed: 4</th>\n",
       "      <th>Consumer Total</th>\n",
       "      <th>Corporate</th>\n",
       "      <th>Unnamed: 7</th>\n",
       "      <th>Unnamed: 8</th>\n",
       "      <th>Unnamed: 9</th>\n",
       "      <th>Corporate Total</th>\n",
       "      <th>Home Office</th>\n",
       "      <th>Unnamed: 12</th>\n",
       "      <th>Unnamed: 13</th>\n",
       "      <th>Unnamed: 14</th>\n",
       "      <th>Home Office Total</th>\n",
       "    </tr>\n",
       "  </thead>\n",
       "  <tbody>\n",
       "    <tr>\n",
       "      <th>0</th>\n",
       "      <td>Ship Mode&gt;&gt;</td>\n",
       "      <td>First Class</td>\n",
       "      <td>Same Day</td>\n",
       "      <td>Second Class</td>\n",
       "      <td>Standard Class</td>\n",
       "      <td>NaN</td>\n",
       "      <td>First Class</td>\n",
       "      <td>Same Day</td>\n",
       "      <td>Second Class</td>\n",
       "      <td>Standard Class</td>\n",
       "      <td>NaN</td>\n",
       "      <td>First Class</td>\n",
       "      <td>Same Day</td>\n",
       "      <td>Second Class</td>\n",
       "      <td>Standard Class</td>\n",
       "      <td>NaN</td>\n",
       "    </tr>\n",
       "    <tr>\n",
       "      <th>1</th>\n",
       "      <td>Order ID</td>\n",
       "      <td>NaN</td>\n",
       "      <td>NaN</td>\n",
       "      <td>NaN</td>\n",
       "      <td>NaN</td>\n",
       "      <td>NaN</td>\n",
       "      <td>NaN</td>\n",
       "      <td>NaN</td>\n",
       "      <td>NaN</td>\n",
       "      <td>NaN</td>\n",
       "      <td>NaN</td>\n",
       "      <td>NaN</td>\n",
       "      <td>NaN</td>\n",
       "      <td>NaN</td>\n",
       "      <td>NaN</td>\n",
       "      <td>NaN</td>\n",
       "    </tr>\n",
       "    <tr>\n",
       "      <th>2</th>\n",
       "      <td>CA-2011-100293</td>\n",
       "      <td>NaN</td>\n",
       "      <td>NaN</td>\n",
       "      <td>NaN</td>\n",
       "      <td>NaN</td>\n",
       "      <td>NaN</td>\n",
       "      <td>NaN</td>\n",
       "      <td>NaN</td>\n",
       "      <td>NaN</td>\n",
       "      <td>NaN</td>\n",
       "      <td>NaN</td>\n",
       "      <td>NaN</td>\n",
       "      <td>NaN</td>\n",
       "      <td>NaN</td>\n",
       "      <td>91.056</td>\n",
       "      <td>91.056</td>\n",
       "    </tr>\n",
       "    <tr>\n",
       "      <th>3</th>\n",
       "      <td>CA-2011-100706</td>\n",
       "      <td>NaN</td>\n",
       "      <td>NaN</td>\n",
       "      <td>129.44</td>\n",
       "      <td>NaN</td>\n",
       "      <td>129.440</td>\n",
       "      <td>NaN</td>\n",
       "      <td>NaN</td>\n",
       "      <td>NaN</td>\n",
       "      <td>NaN</td>\n",
       "      <td>NaN</td>\n",
       "      <td>NaN</td>\n",
       "      <td>NaN</td>\n",
       "      <td>NaN</td>\n",
       "      <td>NaN</td>\n",
       "      <td>NaN</td>\n",
       "    </tr>\n",
       "    <tr>\n",
       "      <th>4</th>\n",
       "      <td>CA-2011-100895</td>\n",
       "      <td>NaN</td>\n",
       "      <td>NaN</td>\n",
       "      <td>NaN</td>\n",
       "      <td>605.47</td>\n",
       "      <td>605.470</td>\n",
       "      <td>NaN</td>\n",
       "      <td>NaN</td>\n",
       "      <td>NaN</td>\n",
       "      <td>NaN</td>\n",
       "      <td>NaN</td>\n",
       "      <td>NaN</td>\n",
       "      <td>NaN</td>\n",
       "      <td>NaN</td>\n",
       "      <td>NaN</td>\n",
       "      <td>NaN</td>\n",
       "    </tr>\n",
       "    <tr>\n",
       "      <th>5</th>\n",
       "      <td>CA-2011-100916</td>\n",
       "      <td>NaN</td>\n",
       "      <td>NaN</td>\n",
       "      <td>NaN</td>\n",
       "      <td>NaN</td>\n",
       "      <td>NaN</td>\n",
       "      <td>NaN</td>\n",
       "      <td>NaN</td>\n",
       "      <td>NaN</td>\n",
       "      <td>788.86</td>\n",
       "      <td>788.860</td>\n",
       "      <td>NaN</td>\n",
       "      <td>NaN</td>\n",
       "      <td>NaN</td>\n",
       "      <td>NaN</td>\n",
       "      <td>NaN</td>\n",
       "    </tr>\n",
       "    <tr>\n",
       "      <th>6</th>\n",
       "      <td>CA-2011-101266</td>\n",
       "      <td>NaN</td>\n",
       "      <td>NaN</td>\n",
       "      <td>13.36</td>\n",
       "      <td>NaN</td>\n",
       "      <td>13.360</td>\n",
       "      <td>NaN</td>\n",
       "      <td>NaN</td>\n",
       "      <td>NaN</td>\n",
       "      <td>NaN</td>\n",
       "      <td>NaN</td>\n",
       "      <td>NaN</td>\n",
       "      <td>NaN</td>\n",
       "      <td>NaN</td>\n",
       "      <td>NaN</td>\n",
       "      <td>NaN</td>\n",
       "    </tr>\n",
       "    <tr>\n",
       "      <th>7</th>\n",
       "      <td>CA-2011-101560</td>\n",
       "      <td>NaN</td>\n",
       "      <td>NaN</td>\n",
       "      <td>NaN</td>\n",
       "      <td>NaN</td>\n",
       "      <td>NaN</td>\n",
       "      <td>NaN</td>\n",
       "      <td>NaN</td>\n",
       "      <td>542.34</td>\n",
       "      <td>NaN</td>\n",
       "      <td>542.340</td>\n",
       "      <td>NaN</td>\n",
       "      <td>NaN</td>\n",
       "      <td>NaN</td>\n",
       "      <td>NaN</td>\n",
       "      <td>NaN</td>\n",
       "    </tr>\n",
       "    <tr>\n",
       "      <th>8</th>\n",
       "      <td>CA-2011-101770</td>\n",
       "      <td>NaN</td>\n",
       "      <td>NaN</td>\n",
       "      <td>NaN</td>\n",
       "      <td>NaN</td>\n",
       "      <td>NaN</td>\n",
       "      <td>NaN</td>\n",
       "      <td>NaN</td>\n",
       "      <td>NaN</td>\n",
       "      <td>1.869</td>\n",
       "      <td>1.869</td>\n",
       "      <td>NaN</td>\n",
       "      <td>NaN</td>\n",
       "      <td>NaN</td>\n",
       "      <td>NaN</td>\n",
       "      <td>NaN</td>\n",
       "    </tr>\n",
       "    <tr>\n",
       "      <th>9</th>\n",
       "      <td>CA-2011-102274</td>\n",
       "      <td>NaN</td>\n",
       "      <td>NaN</td>\n",
       "      <td>NaN</td>\n",
       "      <td>NaN</td>\n",
       "      <td>NaN</td>\n",
       "      <td>NaN</td>\n",
       "      <td>NaN</td>\n",
       "      <td>NaN</td>\n",
       "      <td>865.5</td>\n",
       "      <td>865.500</td>\n",
       "      <td>NaN</td>\n",
       "      <td>NaN</td>\n",
       "      <td>NaN</td>\n",
       "      <td>NaN</td>\n",
       "      <td>NaN</td>\n",
       "    </tr>\n",
       "    <tr>\n",
       "      <th>10</th>\n",
       "      <td>CA-2011-102673</td>\n",
       "      <td>NaN</td>\n",
       "      <td>NaN</td>\n",
       "      <td>NaN</td>\n",
       "      <td>NaN</td>\n",
       "      <td>NaN</td>\n",
       "      <td>NaN</td>\n",
       "      <td>NaN</td>\n",
       "      <td>NaN</td>\n",
       "      <td>1044.44</td>\n",
       "      <td>1044.440</td>\n",
       "      <td>NaN</td>\n",
       "      <td>NaN</td>\n",
       "      <td>NaN</td>\n",
       "      <td>NaN</td>\n",
       "      <td>NaN</td>\n",
       "    </tr>\n",
       "    <tr>\n",
       "      <th>11</th>\n",
       "      <td>CA-2011-102988</td>\n",
       "      <td>NaN</td>\n",
       "      <td>NaN</td>\n",
       "      <td>NaN</td>\n",
       "      <td>NaN</td>\n",
       "      <td>NaN</td>\n",
       "      <td>NaN</td>\n",
       "      <td>NaN</td>\n",
       "      <td>4251.92</td>\n",
       "      <td>NaN</td>\n",
       "      <td>4251.920</td>\n",
       "      <td>NaN</td>\n",
       "      <td>NaN</td>\n",
       "      <td>NaN</td>\n",
       "      <td>NaN</td>\n",
       "      <td>NaN</td>\n",
       "    </tr>\n",
       "    <tr>\n",
       "      <th>12</th>\n",
       "      <td>CA-2011-103317</td>\n",
       "      <td>NaN</td>\n",
       "      <td>NaN</td>\n",
       "      <td>NaN</td>\n",
       "      <td>NaN</td>\n",
       "      <td>NaN</td>\n",
       "      <td>242.546</td>\n",
       "      <td>NaN</td>\n",
       "      <td>NaN</td>\n",
       "      <td>NaN</td>\n",
       "      <td>242.546</td>\n",
       "      <td>NaN</td>\n",
       "      <td>NaN</td>\n",
       "      <td>NaN</td>\n",
       "      <td>NaN</td>\n",
       "      <td>NaN</td>\n",
       "    </tr>\n",
       "    <tr>\n",
       "      <th>13</th>\n",
       "      <td>CA-2011-103366</td>\n",
       "      <td>149.95</td>\n",
       "      <td>NaN</td>\n",
       "      <td>NaN</td>\n",
       "      <td>NaN</td>\n",
       "      <td>149.950</td>\n",
       "      <td>NaN</td>\n",
       "      <td>NaN</td>\n",
       "      <td>NaN</td>\n",
       "      <td>NaN</td>\n",
       "      <td>NaN</td>\n",
       "      <td>NaN</td>\n",
       "      <td>NaN</td>\n",
       "      <td>NaN</td>\n",
       "      <td>NaN</td>\n",
       "      <td>NaN</td>\n",
       "    </tr>\n",
       "    <tr>\n",
       "      <th>14</th>\n",
       "      <td>CA-2011-103807</td>\n",
       "      <td>NaN</td>\n",
       "      <td>NaN</td>\n",
       "      <td>NaN</td>\n",
       "      <td>NaN</td>\n",
       "      <td>NaN</td>\n",
       "      <td>NaN</td>\n",
       "      <td>NaN</td>\n",
       "      <td>NaN</td>\n",
       "      <td>21.19</td>\n",
       "      <td>21.190</td>\n",
       "      <td>NaN</td>\n",
       "      <td>NaN</td>\n",
       "      <td>NaN</td>\n",
       "      <td>NaN</td>\n",
       "      <td>NaN</td>\n",
       "    </tr>\n",
       "    <tr>\n",
       "      <th>15</th>\n",
       "      <td>CA-2011-103989</td>\n",
       "      <td>NaN</td>\n",
       "      <td>NaN</td>\n",
       "      <td>NaN</td>\n",
       "      <td>NaN</td>\n",
       "      <td>NaN</td>\n",
       "      <td>590.762</td>\n",
       "      <td>NaN</td>\n",
       "      <td>NaN</td>\n",
       "      <td>NaN</td>\n",
       "      <td>590.762</td>\n",
       "      <td>NaN</td>\n",
       "      <td>NaN</td>\n",
       "      <td>NaN</td>\n",
       "      <td>NaN</td>\n",
       "      <td>NaN</td>\n",
       "    </tr>\n",
       "    <tr>\n",
       "      <th>16</th>\n",
       "      <td>CA-2011-104283</td>\n",
       "      <td>NaN</td>\n",
       "      <td>NaN</td>\n",
       "      <td>NaN</td>\n",
       "      <td>616.14</td>\n",
       "      <td>616.140</td>\n",
       "      <td>NaN</td>\n",
       "      <td>NaN</td>\n",
       "      <td>NaN</td>\n",
       "      <td>NaN</td>\n",
       "      <td>NaN</td>\n",
       "      <td>NaN</td>\n",
       "      <td>NaN</td>\n",
       "      <td>NaN</td>\n",
       "      <td>NaN</td>\n",
       "      <td>NaN</td>\n",
       "    </tr>\n",
       "    <tr>\n",
       "      <th>17</th>\n",
       "      <td>CA-2011-106054</td>\n",
       "      <td>NaN</td>\n",
       "      <td>NaN</td>\n",
       "      <td>NaN</td>\n",
       "      <td>NaN</td>\n",
       "      <td>NaN</td>\n",
       "      <td>12.78</td>\n",
       "      <td>NaN</td>\n",
       "      <td>NaN</td>\n",
       "      <td>NaN</td>\n",
       "      <td>12.780</td>\n",
       "      <td>NaN</td>\n",
       "      <td>NaN</td>\n",
       "      <td>NaN</td>\n",
       "      <td>NaN</td>\n",
       "      <td>NaN</td>\n",
       "    </tr>\n",
       "    <tr>\n",
       "      <th>18</th>\n",
       "      <td>CA-2011-106810</td>\n",
       "      <td>NaN</td>\n",
       "      <td>NaN</td>\n",
       "      <td>NaN</td>\n",
       "      <td>NaN</td>\n",
       "      <td>NaN</td>\n",
       "      <td>NaN</td>\n",
       "      <td>NaN</td>\n",
       "      <td>NaN</td>\n",
       "      <td>310.88</td>\n",
       "      <td>310.880</td>\n",
       "      <td>NaN</td>\n",
       "      <td>NaN</td>\n",
       "      <td>NaN</td>\n",
       "      <td>NaN</td>\n",
       "      <td>NaN</td>\n",
       "    </tr>\n",
       "    <tr>\n",
       "      <th>19</th>\n",
       "      <td>CA-2011-107573</td>\n",
       "      <td>NaN</td>\n",
       "      <td>NaN</td>\n",
       "      <td>NaN</td>\n",
       "      <td>23.472</td>\n",
       "      <td>23.472</td>\n",
       "      <td>NaN</td>\n",
       "      <td>NaN</td>\n",
       "      <td>NaN</td>\n",
       "      <td>NaN</td>\n",
       "      <td>NaN</td>\n",
       "      <td>NaN</td>\n",
       "      <td>NaN</td>\n",
       "      <td>NaN</td>\n",
       "      <td>NaN</td>\n",
       "      <td>NaN</td>\n",
       "    </tr>\n",
       "  </tbody>\n",
       "</table>\n",
       "</div>"
      ],
      "text/plain": [
       "         Segment>>     Consumer Unnamed: 2    Unnamed: 3      Unnamed: 4  \\\n",
       "0      Ship Mode>>  First Class   Same Day  Second Class  Standard Class   \n",
       "1         Order ID          NaN        NaN           NaN             NaN   \n",
       "2   CA-2011-100293          NaN        NaN           NaN             NaN   \n",
       "3   CA-2011-100706          NaN        NaN        129.44             NaN   \n",
       "4   CA-2011-100895          NaN        NaN           NaN          605.47   \n",
       "5   CA-2011-100916          NaN        NaN           NaN             NaN   \n",
       "6   CA-2011-101266          NaN        NaN         13.36             NaN   \n",
       "7   CA-2011-101560          NaN        NaN           NaN             NaN   \n",
       "8   CA-2011-101770          NaN        NaN           NaN             NaN   \n",
       "9   CA-2011-102274          NaN        NaN           NaN             NaN   \n",
       "10  CA-2011-102673          NaN        NaN           NaN             NaN   \n",
       "11  CA-2011-102988          NaN        NaN           NaN             NaN   \n",
       "12  CA-2011-103317          NaN        NaN           NaN             NaN   \n",
       "13  CA-2011-103366       149.95        NaN           NaN             NaN   \n",
       "14  CA-2011-103807          NaN        NaN           NaN             NaN   \n",
       "15  CA-2011-103989          NaN        NaN           NaN             NaN   \n",
       "16  CA-2011-104283          NaN        NaN           NaN          616.14   \n",
       "17  CA-2011-106054          NaN        NaN           NaN             NaN   \n",
       "18  CA-2011-106810          NaN        NaN           NaN             NaN   \n",
       "19  CA-2011-107573          NaN        NaN           NaN          23.472   \n",
       "\n",
       "    Consumer Total    Corporate Unnamed: 7    Unnamed: 8      Unnamed: 9  \\\n",
       "0              NaN  First Class   Same Day  Second Class  Standard Class   \n",
       "1              NaN          NaN        NaN           NaN             NaN   \n",
       "2              NaN          NaN        NaN           NaN             NaN   \n",
       "3          129.440          NaN        NaN           NaN             NaN   \n",
       "4          605.470          NaN        NaN           NaN             NaN   \n",
       "5              NaN          NaN        NaN           NaN          788.86   \n",
       "6           13.360          NaN        NaN           NaN             NaN   \n",
       "7              NaN          NaN        NaN        542.34             NaN   \n",
       "8              NaN          NaN        NaN           NaN           1.869   \n",
       "9              NaN          NaN        NaN           NaN           865.5   \n",
       "10             NaN          NaN        NaN           NaN         1044.44   \n",
       "11             NaN          NaN        NaN       4251.92             NaN   \n",
       "12             NaN      242.546        NaN           NaN             NaN   \n",
       "13         149.950          NaN        NaN           NaN             NaN   \n",
       "14             NaN          NaN        NaN           NaN           21.19   \n",
       "15             NaN      590.762        NaN           NaN             NaN   \n",
       "16         616.140          NaN        NaN           NaN             NaN   \n",
       "17             NaN        12.78        NaN           NaN             NaN   \n",
       "18             NaN          NaN        NaN           NaN          310.88   \n",
       "19          23.472          NaN        NaN           NaN             NaN   \n",
       "\n",
       "    Corporate Total  Home Office Unnamed: 12   Unnamed: 13     Unnamed: 14  \\\n",
       "0               NaN  First Class    Same Day  Second Class  Standard Class   \n",
       "1               NaN          NaN         NaN           NaN             NaN   \n",
       "2               NaN          NaN         NaN           NaN          91.056   \n",
       "3               NaN          NaN         NaN           NaN             NaN   \n",
       "4               NaN          NaN         NaN           NaN             NaN   \n",
       "5           788.860          NaN         NaN           NaN             NaN   \n",
       "6               NaN          NaN         NaN           NaN             NaN   \n",
       "7           542.340          NaN         NaN           NaN             NaN   \n",
       "8             1.869          NaN         NaN           NaN             NaN   \n",
       "9           865.500          NaN         NaN           NaN             NaN   \n",
       "10         1044.440          NaN         NaN           NaN             NaN   \n",
       "11         4251.920          NaN         NaN           NaN             NaN   \n",
       "12          242.546          NaN         NaN           NaN             NaN   \n",
       "13              NaN          NaN         NaN           NaN             NaN   \n",
       "14           21.190          NaN         NaN           NaN             NaN   \n",
       "15          590.762          NaN         NaN           NaN             NaN   \n",
       "16              NaN          NaN         NaN           NaN             NaN   \n",
       "17           12.780          NaN         NaN           NaN             NaN   \n",
       "18          310.880          NaN         NaN           NaN             NaN   \n",
       "19              NaN          NaN         NaN           NaN             NaN   \n",
       "\n",
       "    Home Office Total  \n",
       "0                 NaN  \n",
       "1                 NaN  \n",
       "2              91.056  \n",
       "3                 NaN  \n",
       "4                 NaN  \n",
       "5                 NaN  \n",
       "6                 NaN  \n",
       "7                 NaN  \n",
       "8                 NaN  \n",
       "9                 NaN  \n",
       "10                NaN  \n",
       "11                NaN  \n",
       "12                NaN  \n",
       "13                NaN  \n",
       "14                NaN  \n",
       "15                NaN  \n",
       "16                NaN  \n",
       "17                NaN  \n",
       "18                NaN  \n",
       "19                NaN  "
      ]
     },
     "execution_count": 47,
     "metadata": {},
     "output_type": "execute_result"
    }
   ],
   "source": [
    "df_dirty.head(20)"
   ]
  },
  {
   "cell_type": "markdown",
   "metadata": {},
   "source": [
    "# Sub Describe\n",
    "- This dataset is divided into three parts\n",
    "1. Consumer\n",
    "2. Corporate\n",
    "3. Home Office\n",
    "-> We need to find out, if any ship mode goes on multiple segment or shipingmode"
   ]
  },
  {
   "cell_type": "code",
   "execution_count": 48,
   "metadata": {},
   "outputs": [],
   "source": [
    "# <!-- df_checking =  -->\n",
    "# df_dirty.columns\n",
    "df_checking = df_dirty[[\n",
    "        # 'Segment>>', \n",
    "        'Consumer', 'Unnamed: 2', 'Unnamed: 3', 'Unnamed: 4',\n",
    "       'Consumer Total', 'Corporate', 'Unnamed: 7', 'Unnamed: 8', 'Unnamed: 9',\n",
    "       'Corporate Total', 'Home Office', 'Unnamed: 12', 'Unnamed: 13',\n",
    "       'Unnamed: 14', 'Home Office Total']]"
   ]
  },
  {
   "cell_type": "code",
   "execution_count": 50,
   "metadata": {},
   "outputs": [
    {
     "data": {
      "text/plain": [
       "13"
      ]
     },
     "execution_count": 50,
     "metadata": {},
     "output_type": "execute_result"
    }
   ],
   "source": [
    "df_checking.iloc[2].isna().sum()\n",
    "# There 2 scenarios \n",
    "# - If the number of exist value is 2 (or number of na is 13) -> that rows only have one record\n",
    "# - If it exceed -> there'e more category in it"
   ]
  },
  {
   "cell_type": "code",
   "execution_count": 51,
   "metadata": {},
   "outputs": [],
   "source": [
    "# We need  to keep track of those rows -> save it in a variables\n",
    "# Varible\n",
    "\n",
    "record_index =[]\n",
    "# Checking process\n",
    "\n",
    "for i in df_checking[1:len(df_checking.index)].index:\n",
    "    if(df_checking.iloc[i].isna().sum()>=13):\n",
    "        continue\n",
    "    # There's problem in this row and we need to track it\n",
    "    record_index.append(i)"
   ]
  },
  {
   "cell_type": "code",
   "execution_count": 52,
   "metadata": {},
   "outputs": [
    {
     "name": "stdout",
     "output_type": "stream",
     "text": [
      "1\n"
     ]
    }
   ],
   "source": [
    "# Checking the number of it\n",
    "print(len(record_index))"
   ]
  },
  {
   "cell_type": "code",
   "execution_count": 53,
   "metadata": {},
   "outputs": [
    {
     "name": "stdout",
     "output_type": "stream",
     "text": [
      "Consumer               20802.173\n",
      "Unnamed: 2              8132.409\n",
      "Unnamed: 3            49724.2545\n",
      "Unnamed: 4           116922.1345\n",
      "Consumer Total        195580.971\n",
      "Corporate              20792.607\n",
      "Unnamed: 7              9907.308\n",
      "Unnamed: 8             35243.231\n",
      "Unnamed: 9            55942.7865\n",
      "Corporate Total      121885.9325\n",
      "Home Office             7737.786\n",
      "Unnamed: 12             2977.456\n",
      "Unnamed: 13             8791.127\n",
      "Unnamed: 14           54748.6325\n",
      "Home Office Total     74255.0015\n",
      "Name: 824, dtype: object\n"
     ]
    }
   ],
   "source": [
    "#There'e only 1 so let's check that are the content in that row\n",
    "for i in record_index:\n",
    "    print(df_checking.loc[i,:])"
   ]
  },
  {
   "cell_type": "code",
   "execution_count": 54,
   "metadata": {},
   "outputs": [
    {
     "data": {
      "text/plain": [
       "0"
      ]
     },
     "execution_count": 54,
     "metadata": {},
     "output_type": "execute_result"
    }
   ],
   "source": [
    "df_dirty.duplicated().sum()"
   ]
  },
  {
   "cell_type": "markdown",
   "metadata": {},
   "source": [
    "# Conclusion after inspecting dataset\n",
    "\n",
    "This dataset is transactional dataset which include 3 part\n",
    "Consumer\n",
    "Corporate\n",
    "Home Office Total\n",
    "\n",
    "And in each part has its particular categories and 1 column to get the total value of that orderId (total of only 1)\n",
    "\n",
    "Each orderId is about only 1 category\n",
    "The last rows is the total amount of each column,\n",
    "with no duplicated row, each row represent unique orderId"
   ]
  },
  {
   "cell_type": "markdown",
   "metadata": {},
   "source": [
    "# 3. PROCESSING\n",
    "- Handling missing\n",
    "- Handling duplicate\n",
    "- Handling fault\n",
    "# Steps\n",
    "- Step 1: subseting three different part \n",
    "- Step 2: processing each part with 1 processing section\n",
    "- Step 3: Unique hanlding if neccesary\n",
    "- Step 4: Concat its column\n",
    "- Step 5: Re-check"
   ]
  },
  {
   "cell_type": "code",
   "execution_count": 104,
   "metadata": {},
   "outputs": [],
   "source": [
    "# Step 1: Subsetting each part"
   ]
  },
  {
   "cell_type": "code",
   "execution_count": 56,
   "metadata": {},
   "outputs": [],
   "source": [
    "df_dirty.drop(index = (len(df_dirty)-1), inplace=True)"
   ]
  },
  {
   "cell_type": "code",
   "execution_count": 57,
   "metadata": {},
   "outputs": [],
   "source": [
    "df_dirty_consumer = df_dirty[['Segment>>', \n",
    "                              'Consumer', 'Unnamed: 2', 'Unnamed: 3', 'Unnamed: 4', 'Consumer Total', \n",
    "                            #   'Corporate', 'Unnamed: 7', 'Unnamed: 8', 'Unnamed: 9', 'Corporate Total', \n",
    "                            #   'Home Office', 'Unnamed: 12', 'Unnamed: 13', 'Unnamed: 14', 'Home Office Total'\n",
    "                            ]].copy()\n",
    "df_dirty_corporate = df_dirty[['Segment>>', \n",
    "                            #   'Consumer', 'Unnamed: 2', 'Unnamed: 3', 'Unnamed: 4', 'Consumer Total', \n",
    "                              'Corporate', 'Unnamed: 7', 'Unnamed: 8', 'Unnamed: 9', 'Corporate Total', \n",
    "                            #   'Home Office', 'Unnamed: 12', 'Unnamed: 13', 'Unnamed: 14', 'Home Office Total'\n",
    "                            ]].copy()\n",
    "df_dirty_home = df_dirty[['Segment>>', \n",
    "                            #   'Consumer', 'Unnamed: 2', 'Unnamed: 3', 'Unnamed: 4', 'Consumer Total', \n",
    "                            #   'Corporate', 'Unnamed: 7', 'Unnamed: 8', 'Unnamed: 9', 'Corporate Total', \n",
    "                              'Home Office', 'Unnamed: 12', 'Unnamed: 13', 'Unnamed: 14',  'Home Office Total'\n",
    "                            ]].copy()"
   ]
  },
  {
   "cell_type": "code",
   "execution_count": 107,
   "metadata": {},
   "outputs": [],
   "source": [
    "# Step 2: Processing\n",
    "#  Rename the header"
   ]
  },
  {
   "cell_type": "code",
   "execution_count": 58,
   "metadata": {},
   "outputs": [],
   "source": [
    "df_dirty_consumer.columns = df_dirty_consumer.iloc[0]\n",
    "df_dirty_consumer.rename(columns={\n",
    "    \"Ship Mode>>\": \"Order ID\"\n",
    "}, inplace=True)\n",
    "df_dirty_consumer.drop(index=0,inplace=True)"
   ]
  },
  {
   "cell_type": "code",
   "execution_count": 59,
   "metadata": {},
   "outputs": [],
   "source": [
    "df_dirty_corporate.columns = df_dirty_corporate.iloc[0]\n",
    "df_dirty_corporate.rename(columns={\n",
    "    \"Ship Mode>>\": \"Order ID\"\n",
    "}, inplace=True)\n",
    "df_dirty_corporate.drop(index=0,inplace=True)"
   ]
  },
  {
   "cell_type": "code",
   "execution_count": 60,
   "metadata": {},
   "outputs": [],
   "source": [
    "df_dirty_home.columns = df_dirty_home.iloc[0]\n",
    "df_dirty_home.rename(columns={\n",
    "    \"Ship Mode>>\": \"Order ID\"\n",
    "}, inplace=True)\n",
    "df_dirty_home.drop(index=0,inplace=True)"
   ]
  },
  {
   "cell_type": "code",
   "execution_count": 108,
   "metadata": {},
   "outputs": [],
   "source": [
    "#  Drop unneccesary rows of each df"
   ]
  },
  {
   "cell_type": "code",
   "execution_count": 61,
   "metadata": {},
   "outputs": [],
   "source": [
    "df_dirty_consumer = df_dirty_consumer.drop(index=df_dirty_consumer.loc[df_dirty_consumer[df_dirty_consumer.columns[-1]].isna()].index).iloc[:,:-1]"
   ]
  },
  {
   "cell_type": "code",
   "execution_count": 62,
   "metadata": {},
   "outputs": [],
   "source": [
    "df_dirty_corporate = df_dirty_corporate.drop(index=df_dirty_corporate.loc[df_dirty_corporate[df_dirty_corporate.columns[-1]].isna()].index).iloc[:,:-1]"
   ]
  },
  {
   "cell_type": "code",
   "execution_count": 63,
   "metadata": {},
   "outputs": [],
   "source": [
    "df_dirty_home = df_dirty_home.drop(index=df_dirty_home.loc[df_dirty_home[df_dirty_home.columns[-1]].isna()].index).iloc[:,:-1]"
   ]
  },
  {
   "cell_type": "code",
   "execution_count": 109,
   "metadata": {},
   "outputs": [],
   "source": [
    "# Melt the structure of the dataframe turn wide to long data"
   ]
  },
  {
   "cell_type": "code",
   "execution_count": 64,
   "metadata": {},
   "outputs": [],
   "source": [
    "df_dirty_consumer = pd.melt(df_dirty_consumer, id_vars=['Order ID'], value_vars=['First Class', 'Same Day', 'Second Class', 'Standard Class'], var_name='Type',value_name=\"Total\")\n",
    "df_dirty_corporate = pd.melt(df_dirty_corporate, id_vars=['Order ID'], value_vars=['First Class', 'Same Day', 'Second Class', 'Standard Class'], var_name='Type',value_name=\"Total\")\n",
    "df_dirty_home = pd.melt(df_dirty_home, id_vars=['Order ID'], value_vars=['First Class', 'Same Day', 'Second Class', 'Standard Class'], var_name='Type',value_name=\"Total\")"
   ]
  },
  {
   "cell_type": "code",
   "execution_count": 110,
   "metadata": {},
   "outputs": [],
   "source": [
    "# Add segment column to make the dataframe reader"
   ]
  },
  {
   "cell_type": "code",
   "execution_count": 65,
   "metadata": {},
   "outputs": [],
   "source": [
    "df_dirty_consumer.insert(1, \"Segment\", \"Consumer\")\n",
    "df_dirty_corporate.insert(1, \"Segment\", \"Corperate\")\n",
    "df_dirty_home.insert(1, \"Segment\", \"Home Office\")"
   ]
  },
  {
   "cell_type": "code",
   "execution_count": 111,
   "metadata": {},
   "outputs": [],
   "source": [
    "# Continue to drop the Null value of of each dataframe - which represent to category are not used at the order"
   ]
  },
  {
   "cell_type": "code",
   "execution_count": 66,
   "metadata": {},
   "outputs": [],
   "source": [
    "df_dirty_consumer.drop(index = df_dirty_consumer.loc[df_dirty_consumer[\"Total\"].isna()].index, inplace=True)"
   ]
  },
  {
   "cell_type": "code",
   "execution_count": 67,
   "metadata": {},
   "outputs": [],
   "source": [
    "df_dirty_corporate.drop(index = df_dirty_corporate.loc[df_dirty_corporate[\"Total\"].isna()].index, inplace=True)"
   ]
  },
  {
   "cell_type": "code",
   "execution_count": 68,
   "metadata": {},
   "outputs": [],
   "source": [
    "df_dirty_home.drop(index = df_dirty_home.loc[df_dirty_home[\"Total\"].isna()].index, inplace=True)"
   ]
  },
  {
   "cell_type": "code",
   "execution_count": 69,
   "metadata": {},
   "outputs": [],
   "source": [
    "# Step 3: Unique processing - no needed\n",
    "# Step 4: Concat dataframe\n",
    "df_clean = pd.concat([df_dirty_consumer,df_dirty_corporate, df_dirty_home],ignore_index=True)"
   ]
  },
  {
   "cell_type": "code",
   "execution_count": 73,
   "metadata": {},
   "outputs": [],
   "source": [
    "# Step 5: Re-check all the category\n",
    "# Missing, Duplicate, Fault, shape, type"
   ]
  },
  {
   "cell_type": "code",
   "execution_count": 80,
   "metadata": {},
   "outputs": [
    {
     "data": {
      "text/html": [
       "<div>\n",
       "<style scoped>\n",
       "    .dataframe tbody tr th:only-of-type {\n",
       "        vertical-align: middle;\n",
       "    }\n",
       "\n",
       "    .dataframe tbody tr th {\n",
       "        vertical-align: top;\n",
       "    }\n",
       "\n",
       "    .dataframe thead th {\n",
       "        text-align: right;\n",
       "    }\n",
       "</style>\n",
       "<table border=\"1\" class=\"dataframe\">\n",
       "  <thead>\n",
       "    <tr style=\"text-align: right;\">\n",
       "      <th></th>\n",
       "      <th>Order ID</th>\n",
       "      <th>Segment</th>\n",
       "      <th>Type</th>\n",
       "      <th>Total</th>\n",
       "    </tr>\n",
       "  </thead>\n",
       "  <tbody>\n",
       "    <tr>\n",
       "      <th>0</th>\n",
       "      <td>CA-2011-103366</td>\n",
       "      <td>Consumer</td>\n",
       "      <td>First Class</td>\n",
       "      <td>149.950</td>\n",
       "    </tr>\n",
       "    <tr>\n",
       "      <th>1</th>\n",
       "      <td>CA-2011-109043</td>\n",
       "      <td>Consumer</td>\n",
       "      <td>First Class</td>\n",
       "      <td>243.600</td>\n",
       "    </tr>\n",
       "    <tr>\n",
       "      <th>2</th>\n",
       "      <td>CA-2011-113166</td>\n",
       "      <td>Consumer</td>\n",
       "      <td>First Class</td>\n",
       "      <td>9.568</td>\n",
       "    </tr>\n",
       "    <tr>\n",
       "      <th>3</th>\n",
       "      <td>CA-2011-124023</td>\n",
       "      <td>Consumer</td>\n",
       "      <td>First Class</td>\n",
       "      <td>8.960</td>\n",
       "    </tr>\n",
       "    <tr>\n",
       "      <th>4</th>\n",
       "      <td>CA-2011-130155</td>\n",
       "      <td>Consumer</td>\n",
       "      <td>First Class</td>\n",
       "      <td>34.200</td>\n",
       "    </tr>\n",
       "  </tbody>\n",
       "</table>\n",
       "</div>"
      ],
      "text/plain": [
       "         Order ID   Segment         Type    Total\n",
       "0  CA-2011-103366  Consumer  First Class  149.950\n",
       "1  CA-2011-109043  Consumer  First Class  243.600\n",
       "2  CA-2011-113166  Consumer  First Class    9.568\n",
       "3  CA-2011-124023  Consumer  First Class    8.960\n",
       "4  CA-2011-130155  Consumer  First Class   34.200"
      ]
     },
     "execution_count": 80,
     "metadata": {},
     "output_type": "execute_result"
    }
   ],
   "source": [
    "df_clean.head()"
   ]
  },
  {
   "cell_type": "code",
   "execution_count": 81,
   "metadata": {},
   "outputs": [
    {
     "data": {
      "text/plain": [
       "Order ID     object\n",
       "Segment      object\n",
       "Type         object\n",
       "Total       float64\n",
       "dtype: object"
      ]
     },
     "execution_count": 81,
     "metadata": {},
     "output_type": "execute_result"
    }
   ],
   "source": [
    "df_clean.dtypes"
   ]
  },
  {
   "cell_type": "code",
   "execution_count": 78,
   "metadata": {},
   "outputs": [],
   "source": [
    "df_clean['Total']= pd.to_numeric(df_clean['Total'])"
   ]
  },
  {
   "cell_type": "code",
   "execution_count": 91,
   "metadata": {},
   "outputs": [
    {
     "data": {
      "text/plain": [
       "Order ID    0\n",
       "Segment     0\n",
       "Type        0\n",
       "Total       0\n",
       "dtype: int64"
      ]
     },
     "execution_count": 91,
     "metadata": {},
     "output_type": "execute_result"
    }
   ],
   "source": [
    "df_clean.isna().sum()\n"
   ]
  },
  {
   "cell_type": "code",
   "execution_count": 92,
   "metadata": {},
   "outputs": [
    {
     "data": {
      "text/plain": [
       "0"
      ]
     },
     "execution_count": 92,
     "metadata": {},
     "output_type": "execute_result"
    }
   ],
   "source": [
    "df_clean.duplicated().sum()"
   ]
  },
  {
   "cell_type": "code",
   "execution_count": 103,
   "metadata": {},
   "outputs": [
    {
     "data": {
      "text/html": [
       "<div>\n",
       "<style scoped>\n",
       "    .dataframe tbody tr th:only-of-type {\n",
       "        vertical-align: middle;\n",
       "    }\n",
       "\n",
       "    .dataframe tbody tr th {\n",
       "        vertical-align: top;\n",
       "    }\n",
       "\n",
       "    .dataframe thead th {\n",
       "        text-align: right;\n",
       "    }\n",
       "</style>\n",
       "<table border=\"1\" class=\"dataframe\">\n",
       "  <thead>\n",
       "    <tr style=\"text-align: right;\">\n",
       "      <th></th>\n",
       "      <th>Order ID</th>\n",
       "      <th>Segment</th>\n",
       "      <th>Type</th>\n",
       "      <th>Total</th>\n",
       "    </tr>\n",
       "  </thead>\n",
       "  <tbody>\n",
       "    <tr>\n",
       "      <th>691</th>\n",
       "      <td>CA-2011-132010</td>\n",
       "      <td>Home Office</td>\n",
       "      <td>First Class</td>\n",
       "      <td>389.740</td>\n",
       "    </tr>\n",
       "    <tr>\n",
       "      <th>692</th>\n",
       "      <td>CA-2011-136567</td>\n",
       "      <td>Home Office</td>\n",
       "      <td>First Class</td>\n",
       "      <td>2884.370</td>\n",
       "    </tr>\n",
       "    <tr>\n",
       "      <th>693</th>\n",
       "      <td>CA-2011-140165</td>\n",
       "      <td>Home Office</td>\n",
       "      <td>First Class</td>\n",
       "      <td>405.456</td>\n",
       "    </tr>\n",
       "    <tr>\n",
       "      <th>694</th>\n",
       "      <td>CA-2013-149454</td>\n",
       "      <td>Home Office</td>\n",
       "      <td>First Class</td>\n",
       "      <td>10.440</td>\n",
       "    </tr>\n",
       "    <tr>\n",
       "      <th>695</th>\n",
       "      <td>CA-2013-159142</td>\n",
       "      <td>Home Office</td>\n",
       "      <td>First Class</td>\n",
       "      <td>177.780</td>\n",
       "    </tr>\n",
       "    <tr>\n",
       "      <th>...</th>\n",
       "      <td>...</td>\n",
       "      <td>...</td>\n",
       "      <td>...</td>\n",
       "      <td>...</td>\n",
       "    </tr>\n",
       "    <tr>\n",
       "      <th>817</th>\n",
       "      <td>US-2014-129224</td>\n",
       "      <td>Home Office</td>\n",
       "      <td>Standard Class</td>\n",
       "      <td>4.608</td>\n",
       "    </tr>\n",
       "    <tr>\n",
       "      <th>818</th>\n",
       "      <td>US-2014-132031</td>\n",
       "      <td>Home Office</td>\n",
       "      <td>Standard Class</td>\n",
       "      <td>513.496</td>\n",
       "    </tr>\n",
       "    <tr>\n",
       "      <th>819</th>\n",
       "      <td>US-2014-132297</td>\n",
       "      <td>Home Office</td>\n",
       "      <td>Standard Class</td>\n",
       "      <td>598.310</td>\n",
       "    </tr>\n",
       "    <tr>\n",
       "      <th>820</th>\n",
       "      <td>US-2014-132675</td>\n",
       "      <td>Home Office</td>\n",
       "      <td>Standard Class</td>\n",
       "      <td>148.160</td>\n",
       "    </tr>\n",
       "    <tr>\n",
       "      <th>821</th>\n",
       "      <td>US-2014-156083</td>\n",
       "      <td>Home Office</td>\n",
       "      <td>Standard Class</td>\n",
       "      <td>9.664</td>\n",
       "    </tr>\n",
       "  </tbody>\n",
       "</table>\n",
       "<p>131 rows × 4 columns</p>\n",
       "</div>"
      ],
      "text/plain": [
       "           Order ID      Segment            Type     Total\n",
       "691  CA-2011-132010  Home Office     First Class   389.740\n",
       "692  CA-2011-136567  Home Office     First Class  2884.370\n",
       "693  CA-2011-140165  Home Office     First Class   405.456\n",
       "694  CA-2013-149454  Home Office     First Class    10.440\n",
       "695  CA-2013-159142  Home Office     First Class   177.780\n",
       "..              ...          ...             ...       ...\n",
       "817  US-2014-129224  Home Office  Standard Class     4.608\n",
       "818  US-2014-132031  Home Office  Standard Class   513.496\n",
       "819  US-2014-132297  Home Office  Standard Class   598.310\n",
       "820  US-2014-132675  Home Office  Standard Class   148.160\n",
       "821  US-2014-156083  Home Office  Standard Class     9.664\n",
       "\n",
       "[131 rows x 4 columns]"
      ]
     },
     "execution_count": 103,
     "metadata": {},
     "output_type": "execute_result"
    }
   ],
   "source": [
    "df_clean.query(\"Segment == 'Home Office'\")"
   ]
  },
  {
   "cell_type": "markdown",
   "metadata": {},
   "source": [
    "# CONCLUSION\n",
    "- This dataset is easy to handle, but it's a great start for you on Cleaning data\n",
    "- What I learn from this personal cleaning project is that\n",
    "1. You have to divided the cleaning process into different phase \n",
    "- Inspecting\n",
    "- Planning\n",
    "- \"Googling\" what library, what tool you need for it\n",
    "2. Rememer what you need to do in each phase\n",
    "- Inspecting: check number of rows, column names, datatypes,  null value, duplicate, the format as well as check sample row with head() sample\n",
    "- Planning: Make your sample structure you will convert your dataframe to, is it needed to be separated, do you need to regex, \n",
    "3. Think ahead\n",
    "- Something you can do upfront will reduce the amount of work you need, like dropping, replace ...\n",
    "- But, some tasks you need to do it later, because if you don't have that sufficient rows, columns it will be hard for you to process (like the way a seperate the data into 3 parts and process it)\n",
    "4. Always recheck your result\n",
    "- I found out that I didn't convert my datatypes so it was a big help to re-check with a the categories \n"
   ]
  },
  {
   "cell_type": "markdown",
   "metadata": {},
   "source": [
    "# 4. EXPORTING THE DATA"
   ]
  },
  {
   "cell_type": "code",
   "execution_count": 112,
   "metadata": {},
   "outputs": [],
   "source": [
    "df_clean.to_excel(\"/home/user/Documents/HOC/PYTHON/Data/DataCleaning/dataCleaningInPandas/destination/myCleaning101.xlsx\", index=False)"
   ]
  },
  {
   "cell_type": "markdown",
   "metadata": {},
   "source": [
    "# Visualize\n",
    "## Answer your own question about the data to get used to the syntax of seasborn, ggplot\n",
    "- What are the statistic of each segment on each Shipping method \n",
    "- Compare with pairs\n",
    "- The relationship between them"
   ]
  }
 ],
 "metadata": {
  "kernelspec": {
   "display_name": "Python 3",
   "language": "python",
   "name": "python3"
  },
  "language_info": {
   "codemirror_mode": {
    "name": "ipython",
    "version": 3
   },
   "file_extension": ".py",
   "mimetype": "text/x-python",
   "name": "python",
   "nbconvert_exporter": "python",
   "pygments_lexer": "ipython3",
   "version": "3.10.12"
  }
 },
 "nbformat": 4,
 "nbformat_minor": 2
}
